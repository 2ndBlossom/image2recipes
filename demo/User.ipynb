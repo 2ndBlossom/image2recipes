{
 "cells": [
  {
   "cell_type": "code",
   "execution_count": null,
   "metadata": {},
   "outputs": [],
   "source": [
    "import numpy as np\n",
    "import pandas as pd\n",
    "from encoding_loader import EncodingLoader \n",
    "from img_encoder import ModelType, ImageEncoder \n",
    "from nearest_neighbors import nearest_neighbors, display_progress, update_best\n",
    "import time\n",
    "import sys"
   ]
  },
  {
   "cell_type": "code",
   "execution_count": null,
   "metadata": {},
   "outputs": [],
   "source": [
    "from nutritional_info import NutritionalInformation"
   ]
  },
  {
   "cell_type": "code",
   "execution_count": null,
   "metadata": {},
   "outputs": [],
   "source": [
    "nut_info = NutritionalInformation()"
   ]
  },
  {
   "cell_type": "markdown",
   "metadata": {},
   "source": [
    "Specify input file name"
   ]
  },
  {
   "cell_type": "code",
   "execution_count": null,
   "metadata": {},
   "outputs": [],
   "source": [
    "input_img_filename = './test_img/lomein.jpg'"
   ]
  },
  {
   "cell_type": "markdown",
   "metadata": {},
   "source": [
    "Select model type"
   ]
  },
  {
   "cell_type": "code",
   "execution_count": null,
   "metadata": {},
   "outputs": [],
   "source": [
    "model_types = [ModelType.ResNet50, ModelType.ResNet101, ModelType.DenseNet121]\n",
    "model_type = model_types[2]"
   ]
  },
  {
   "cell_type": "markdown",
   "metadata": {},
   "source": [
    "Create image encoder and encoding loader"
   ]
  },
  {
   "cell_type": "code",
   "execution_count": null,
   "metadata": {},
   "outputs": [],
   "source": [
    "enc_loader = EncodingLoader(model_type)\n",
    "img_enc = ImageEncoder(model_type)"
   ]
  },
  {
   "cell_type": "markdown",
   "metadata": {},
   "source": [
    "Run input image through the neural network in the image encoder to create a 2048-dimensional encoding of the input image. "
   ]
  },
  {
   "cell_type": "code",
   "execution_count": null,
   "metadata": {},
   "outputs": [],
   "source": [
    "enc = img_enc.encode_img(input_img_filename)[0]\n",
    "print(enc.shape)"
   ]
  },
  {
   "cell_type": "markdown",
   "metadata": {},
   "source": [
    "Select a distance metric for the nearest neighbor algorithm."
   ]
  },
  {
   "cell_type": "code",
   "execution_count": null,
   "metadata": {},
   "outputs": [],
   "source": [
    "metrics = ['cos', 'euclidean']\n",
    "metric = metrics[0]\n",
    "num_recipes = 3"
   ]
  },
  {
   "cell_type": "markdown",
   "metadata": {},
   "source": [
    "Run nearest neighbor to find image encoding closest to the encoding of the input image. At the end of this cell, best_files is populated with filenames of the  𝑛𝑢𝑚_𝑟𝑒𝑐𝑖𝑝𝑒𝑠  images closes to our input image. The files are listed in order of decreasing similarity."
   ]
  },
  {
   "cell_type": "code",
   "execution_count": null,
   "metadata": {},
   "outputs": [],
   "source": [
    "enc_loader.reset_iter()\n",
    "enc_matrix, index_to_filename = enc_loader.load_next_encoding()\n",
    "best_files = [None] * num_recipes\n",
    "best_sims = [None] * num_recipes\n",
    "t = time.time()\n",
    "i = 0\n",
    "while True:\n",
    "    display_progress(i)\n",
    "    i += 1\n",
    "    idx, similarity = nearest_neighbors(enc_matrix, enc, metric)\n",
    "    best_files, best_sims = update_best(best_files, best_sims, similarity, index_to_filename[idx], metric)\n",
    "    encoding = enc_loader.load_next_encoding()\n",
    "    if encoding == None:\n",
    "        break\n",
    "    enc_matrix, index_to_filename = encoding\n",
    "t = time.time() - t\n",
    "display_progress(i)\n",
    "\n",
    "print('\\n')\n",
    "for i in range(num_recipes):\n",
    "    print('img ' + str(i + 1) + ': ' + best_files[i])\n",
    "    print('similarity: ' + str(best_sims[i]))\n",
    "print(\"Completed in \" + str(t) + \"s.\" )"
   ]
  },
  {
   "cell_type": "markdown",
   "metadata": {},
   "source": [
    "Print the recipes and nutritional labels"
   ]
  },
  {
   "cell_type": "code",
   "execution_count": null,
   "metadata": {},
   "outputs": [],
   "source": [
    "counter = 1\n",
    "for f in best_files:\n",
    "    print('\\033[1m' + '\\033[94m' + \"Recipe \" + str(counter) + '\\033[0m')\n",
    "    file = f[8:]\n",
    "    info, nutr = nut_info.img_to_recipe(file)\n",
    "    nut_info.display_recipe(nutr, info)\n",
    "    print()\n",
    "    counter += 1"
   ]
  }
 ],
 "metadata": {
  "kernelspec": {
   "display_name": "Python 3",
   "language": "python",
   "name": "python3"
  },
  "language_info": {
   "codemirror_mode": {
    "name": "ipython",
    "version": 3
   },
   "file_extension": ".py",
   "mimetype": "text/x-python",
   "name": "python",
   "nbconvert_exporter": "python",
   "pygments_lexer": "ipython3",
   "version": "3.6.8"
  }
 },
 "nbformat": 4,
 "nbformat_minor": 2
}
